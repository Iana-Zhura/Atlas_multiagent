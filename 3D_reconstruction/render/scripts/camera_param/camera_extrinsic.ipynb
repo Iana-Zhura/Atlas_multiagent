{
 "cells": [
  {
   "cell_type": "code",
   "execution_count": 5,
   "metadata": {},
   "outputs": [],
   "source": [
    "\n",
    "import matplotlib.pyplot as plt\n",
    "import numpy as np\n",
    "import cv2\n",
    "import glob\n",
    "import re\n",
    "import os\n",
    "from scipy.spatial.transform import Rotation as R\n"
   ]
  },
  {
   "cell_type": "code",
   "execution_count": 8,
   "metadata": {},
   "outputs": [],
   "source": [
    "def parse_data(path: str):\n",
    "    files = glob.glob(f'{path}*[0-9].txt')\n",
    "    files = sorted(files, key=lambda x:int(re.findall(\"(\\d+)\",x)[-1]))\n",
    "\n",
    "    poses = np.zeros((len(files),6))\n",
    "    coords = np.zeros((len(files),3))\n",
    "    angles = np.zeros((len(files),3))\n",
    "\n",
    "\n",
    "    for i, f in enumerate(files):\n",
    "        \n",
    "    #print(np.loadtxt(i))\n",
    "        with open(f, 'r') as f_input:\n",
    "            lines = f_input.readlines()\n",
    "            \n",
    "        # poses[i] = []\n",
    "        numbers = []\n",
    "        for line in lines:\n",
    "            m = re.sub(r'\\[|\\]' ,'', line)\n",
    "            m = [float(s) for s in m.split()]\n",
    "            numbers += m \n",
    "        poses[i] = numbers\n",
    "        \n",
    "    coords = poses[:,:3]\n",
    "    angles = poses[:,3:]\n",
    "\n",
    "    return angles, coords"
   ]
  },
  {
   "cell_type": "code",
   "execution_count": 9,
   "metadata": {},
   "outputs": [],
   "source": [
    "def get_rot_matrix_from_euler(angles):\n",
    "    # R = np.array(angles)\n",
    "    # R, J = cv2.Rodrigues(R)\n",
    "    \n",
    "    tx = angles[0]\n",
    "    ty = angles[1] \n",
    "    tz = angles[2]\n",
    "    \n",
    "    Rx = [[1, 0, 0], [0, np.cos(tx), -np.sin(tx)], [0, np.sin(tx), np.cos(tx)]]\n",
    "    Ry = [[np.cos(ty), 0, np.sin(ty)], [0, 1, 0], [-np.sin(ty), 0, np.cos(ty)]]\n",
    "    Rz = [[np.cos(tz), -np.sin(tz), 0], [np.sin(tz), np.cos(tz), 0], [0, 0, 1]]\n",
    "    R = np.matmul(Rz, np.matmul(Ry, Rx))\n",
    "    return R\n",
    "\n",
    "def get_rot_matrix_from_euler_nipun(self, angles:list):\n",
    "    Rx = np.array([[1,                   0,                  0],\n",
    "                    [0,   np.cos(angles[0]), -np.sin(angles[0])],\n",
    "                    [0,   np.sin(angles[0]),  np.cos(angles[0])]])\n",
    "\n",
    "    Ry = np.array([[ np.cos(angles[1]),    0,   np.sin(angles[1])],\n",
    "                    [                 0,    1,                   0],\n",
    "                    [-np.sin(angles[1]),    0,   np.cos(angles[1])]])\n",
    "\n",
    "    Rz = np.array([[np.cos(angles[2]),  -np.sin(angles[2]), 0],\n",
    "                    [np.sin(angles[2]),   np.cos(angles[2]), 0],\n",
    "                    [                0,                   0, 1]])\n",
    "\n",
    "    rot = Rx@Ry@Rz \n",
    "    return rot\n",
    "\n",
    "def get_translation(coord):\n",
    "\n",
    "    offset_base_to_rgb = np.array([10, 32, 13])/1000\n",
    "    #From vicon link to base link\n",
    "    \n",
    "    T = np.array(coord)\n",
    "    T = T + offset_base_to_rgb\n",
    "    T = T*10**(-6)\n",
    "    return T\n",
    "\n",
    "def get_intrinsic(fx, fy, cx, cy):\n",
    "    return np.array([[fx, 0 , cx],\n",
    "                       [0, fy, cy],\n",
    "                       [0, 0, 1]])"
   ]
  },
  {
   "cell_type": "code",
   "execution_count": 10,
   "metadata": {},
   "outputs": [],
   "source": [
    "def main():\n",
    "    \n",
    "    transform = np.zeros((4,4))\n",
    "\n",
    "    # for realsense D435i\n",
    "    # TODO: load it from .yaml/.json file\n",
    "    fx = 615.671 # focal dist of cam lense [mm]\n",
    "    fy = 615.962 # \n",
    "    cx = 328.001 # optical center\n",
    "    cy = 241.31\n",
    "\n",
    "    outdir = '/home/iana/Atlas/drone_view/'\n",
    "    indir = '/home/iana/Atlas/drone_view/poses_raw/'\n",
    "\n",
    "    angles = parse_data(indir)[0] # get raw angle data\n",
    "    coord = parse_data(indir)[1] # get raw coord\n",
    "    \n",
    "    # TODO: change it to Nipun's rotations\n",
    "    tx = -90*(np.pi/180) # -90\n",
    "    ty = 0.776*(np.pi/180) # 0.776\n",
    "    tz = -90*(np.pi/180) # -90\n",
    "    \n",
    "    Rx = [[1, 0, 0], [0, np.cos(tx), -np.sin(tx)], [0, np.sin(tx), np.cos(tx)]]\n",
    "    Ry = [[np.cos(ty), 0, np.sin(ty)], [0, 1, 0], [-np.sin(ty), 0, np.cos(ty)]]\n",
    "    Rz = [[np.cos(tz), -np.sin(tz), 0], [np.sin(tz), np.cos(tz), 0], [0, 0, 1]]\n",
    "    #R_base_to_camera_color_opt = get_rot((tx, ty, tz))\n",
    "    \n",
    "    for i, (ang, c) in enumerate(zip(angles, coord)):\n",
    "    \n",
    "        R = get_rot_matrix_from_euler(ang)\n",
    "        R = np.matmul(Rz, np.matmul(Ry, np.matmul(Rx, R)))\n",
    "        #R = R_base_to_camera_color_opt @ R\n",
    "\n",
    "        transform[0:3, 0:3] = R\n",
    "       \n",
    "\n",
    "        T = get_translation(c)\n",
    "        transform[0:3, 3] = T\n",
    "        transform[3, 3] = 1\n",
    "        np.savetxt(f'{outdir}pose/{i+1:08}.txt', transform)\n",
    "    \n",
    "    cam_param= get_intrinsic(fx, fy, cx, cy)\n",
    "    np.savetxt(f'{outdir}intrinsics.txt', cam_param)\n",
    "\n",
    "main()"
   ]
  },
  {
   "cell_type": "code",
   "execution_count": 13,
   "metadata": {},
   "outputs": [
    {
     "name": "stdout",
     "output_type": "stream",
     "text": [
      "[[ 2.22044605e-16 -1.00000000e+00  0.00000000e+00  0.00000000e+00]\n",
      " [ 1.00000000e+00  2.22044605e-16  0.00000000e+00  0.00000000e+00]\n",
      " [ 0.00000000e+00  0.00000000e+00  1.00000000e+00  0.00000000e+00]\n",
      " [ 0.00000000e+00  0.00000000e+00  0.00000000e+00  0.00000000e+00]] [[ 2.22044605e-16 -1.00000000e+00  0.00000000e+00]\n",
      " [ 1.00000000e+00  2.22044605e-16  0.00000000e+00]\n",
      " [ 0.00000000e+00  0.00000000e+00  1.00000000e+00]]\n"
     ]
    }
   ],
   "source": [
    "from scipy.spatial.transform import Rotation as R\n",
    "transform = np.zeros((4,4))\n",
    "\n",
    "r = R.from_rotvec([0, 0, np.pi/2])\n",
    "\n",
    "transform[0:3, 0:3] = r.as_matrix()\n",
    "print(transform, r.as_matrix())"
   ]
  },
  {
   "cell_type": "code",
   "execution_count": null,
   "metadata": {},
   "outputs": [],
   "source": [
    "outdir = '/home/iana/Atlas/drone_view/color/'\n",
    "\n",
    "\n",
    "for i, f in enumerate(os.listdir(outdir)):\n",
    "\n",
    "    old_name = f'{outdir}{i+1:07}.jpg'\n",
    "    new_name = f'{outdir}{i+1:08}.jpg'\n",
    "\n",
    "    # Renaming the file\n",
    "    os.rename(old_name, new_name)"
   ]
  },
  {
   "cell_type": "code",
   "execution_count": 9,
   "metadata": {},
   "outputs": [
    {
     "name": "stdout",
     "output_type": "stream",
     "text": [
      "[[1. 1. 1.]\n",
      " [0. 0. 0.]\n",
      " [0. 0. 0.]\n",
      " [0. 0. 0.]\n",
      " [0. 0. 0.]\n",
      " [0. 0. 0.]\n",
      " [0. 0. 0.]\n",
      " [0. 0. 0.]\n",
      " [0. 0. 0.]\n",
      " [0. 0. 0.]]\n"
     ]
    },
    {
     "ename": "AxisError",
     "evalue": "axis 1 is out of bounds for array of dimension 1",
     "output_type": "error",
     "traceback": [
      "\u001b[0;31m---------------------------------------------------------------------------\u001b[0m",
      "\u001b[0;31mAxisError\u001b[0m                                 Traceback (most recent call last)",
      "Cell \u001b[0;32mIn[9], line 7\u001b[0m\n\u001b[1;32m      3\u001b[0m coords[\u001b[39m0\u001b[39m] \u001b[39m=\u001b[39m \u001b[39m1\u001b[39m\n\u001b[1;32m      5\u001b[0m \u001b[39mprint\u001b[39m(coords)\n\u001b[0;32m----> 7\u001b[0m x_min \u001b[39m=\u001b[39m coords[\u001b[39m0\u001b[39;49m]\u001b[39m.\u001b[39;49mmin(axis\u001b[39m=\u001b[39;49m\u001b[39m1\u001b[39;49m)\n\u001b[1;32m      8\u001b[0m y_min \u001b[39m=\u001b[39m coords[\u001b[39m1\u001b[39m]\u001b[39m.\u001b[39mmin(axis\u001b[39m=\u001b[39m\u001b[39m1\u001b[39m)\n\u001b[1;32m      9\u001b[0m coords[\u001b[39m0\u001b[39m] \u001b[39m=\u001b[39m coords[\u001b[39m0\u001b[39m] \u001b[39m-\u001b[39m x_min\n",
      "File \u001b[0;32m~/.local/lib/python3.8/site-packages/numpy/core/_methods.py:44\u001b[0m, in \u001b[0;36m_amin\u001b[0;34m(a, axis, out, keepdims, initial, where)\u001b[0m\n\u001b[1;32m     42\u001b[0m \u001b[39mdef\u001b[39;00m \u001b[39m_amin\u001b[39m(a, axis\u001b[39m=\u001b[39m\u001b[39mNone\u001b[39;00m, out\u001b[39m=\u001b[39m\u001b[39mNone\u001b[39;00m, keepdims\u001b[39m=\u001b[39m\u001b[39mFalse\u001b[39;00m,\n\u001b[1;32m     43\u001b[0m           initial\u001b[39m=\u001b[39m_NoValue, where\u001b[39m=\u001b[39m\u001b[39mTrue\u001b[39;00m):\n\u001b[0;32m---> 44\u001b[0m     \u001b[39mreturn\u001b[39;00m umr_minimum(a, axis, \u001b[39mNone\u001b[39;49;00m, out, keepdims, initial, where)\n",
      "\u001b[0;31mAxisError\u001b[0m: axis 1 is out of bounds for array of dimension 1"
     ]
    }
   ],
   "source": [
    "import numpy as np\n",
    "coords = np.zeros((10,3))\n",
    "coords[0] = 1\n",
    "\n",
    "print(coords)\n",
    "\n",
    "x_min = coords[0].min(axis=1)\n",
    "y_min = coords[1].min(axis=1)\n",
    "coords[0] = coords[0] - x_min\n",
    "coords[1] = coords[1] - y_min\n",
    "\n",
    "coords"
   ]
  },
  {
   "cell_type": "code",
   "execution_count": null,
   "metadata": {},
   "outputs": [],
   "source": []
  }
 ],
 "metadata": {
  "kernelspec": {
   "display_name": "Python 3.8.10 64-bit",
   "language": "python",
   "name": "python3"
  },
  "language_info": {
   "codemirror_mode": {
    "name": "ipython",
    "version": 3
   },
   "file_extension": ".py",
   "mimetype": "text/x-python",
   "name": "python",
   "nbconvert_exporter": "python",
   "pygments_lexer": "ipython3",
   "version": "3.8.10"
  },
  "orig_nbformat": 4,
  "vscode": {
   "interpreter": {
    "hash": "916dbcbb3f70747c44a77c7bcd40155683ae19c65e1c03b4aa3499c5328201f1"
   }
  }
 },
 "nbformat": 4,
 "nbformat_minor": 2
}
