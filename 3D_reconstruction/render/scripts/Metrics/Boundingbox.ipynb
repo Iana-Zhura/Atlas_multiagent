{
 "cells": [
  {
   "cell_type": "code",
   "execution_count": 1,
   "metadata": {},
   "outputs": [
    {
     "name": "stdout",
     "output_type": "stream",
     "text": [
      "Jupyter environment detected. Enabling Open3D WebVisualizer.\n",
      "[Open3D INFO] WebRTC GUI backend enabled.\n",
      "[Open3D INFO] WebRTCWindowSystem: HTTP handshake server disabled.\n"
     ]
    }
   ],
   "source": [
    "import open3d as o3d\n",
    "import numpy as np"
   ]
  },
  {
   "cell_type": "code",
   "execution_count": 2,
   "metadata": {},
   "outputs": [
    {
     "name": "stdout",
     "output_type": "stream",
     "text": [
      "Testing IO for point cloud ...\n",
      "[Open3D INFO] Downloading https://github.com/isl-org/open3d_downloads/releases/download/20220201-data/fragment.pcd\n",
      "[Open3D INFO] Downloaded to /home/iana/open3d_data/download/PCDPointCloud/fragment.pcd\n",
      "PointCloud with 1720 points.\n"
     ]
    },
    {
     "data": {
      "text/plain": [
       "True"
      ]
     },
     "execution_count": 2,
     "metadata": {},
     "output_type": "execute_result"
    }
   ],
   "source": [
    "\n",
    "print(\"Testing IO for point cloud ...\")\n",
    "sample_pcd_data = o3d.data.PCDPointCloud()\n",
    "pcd = o3d.io.read_point_cloud(\"/home/iana/Atlas/Arch.ply\")\n",
    "print(pcd)\n",
    "\n",
    "o3d.io.write_point_cloud(\"copy_of_fragment.pcd\", pcd)"
   ]
  },
  {
   "cell_type": "code",
   "execution_count": 3,
   "metadata": {},
   "outputs": [
    {
     "name": "stdout",
     "output_type": "stream",
     "text": [
      "Load a ply point cloud, print it, and render it\n",
      "[Open3D INFO] Downloading https://github.com/isl-org/open3d_downloads/releases/download/20220201-data/fragment.ply\n",
      "[Open3D INFO] Downloaded to /home/iana/open3d_data/download/PLYPointCloud/fragment.ply\n",
      "[[ 1.07076887  0.49715754  0.83005751]\n",
      " [ 1.26622805 -0.80911457  0.73557315]\n",
      " [ 0.27439615  0.3752837   0.86754558]\n",
      " [ 1.04617629  0.52477215  0.39740343]\n",
      " [ 0.44526275 -0.9033738   0.34040714]\n",
      " [ 0.24980357  0.40289831  0.4348915 ]\n",
      " [ 1.24163547 -0.78149996  0.30291908]\n",
      " [ 0.46985533 -0.93098841  0.77306122]]\n"
     ]
    }
   ],
   "source": [
    "print(\"Load a ply point cloud, print it, and render it\")\n",
    "ply_point_cloud = o3d.data.PLYPointCloud()\n",
    "pcd = o3d.io.read_point_cloud(\"/home/iana/Atlas/Arch.ply\")\n",
    "#print(pcd)\n",
    "#print(np.asarray(pcd.points))\n",
    "# o3d.visualization.draw_geometries([pcd])\n",
    "\n",
    "\n",
    "\n",
    "aabb = pcd.get_axis_aligned_bounding_box()\n",
    "aabb.color = (1, 0, 0)\n",
    "obb = pcd.get_oriented_bounding_box()\n",
    "obb.color = (0, 1, 0)\n",
    "o3d.visualization.draw_geometries([pcd, aabb, obb])\n",
    "x = np.asarray(obb.get_box_points())\n",
    "print(x)"
   ]
  },
  {
   "cell_type": "code",
   "execution_count": null,
   "metadata": {},
   "outputs": [],
   "source": []
  }
 ],
 "metadata": {
  "kernelspec": {
   "display_name": "Python 3",
   "language": "python",
   "name": "python3"
  },
  "language_info": {
   "codemirror_mode": {
    "name": "ipython",
    "version": 3
   },
   "file_extension": ".py",
   "mimetype": "text/x-python",
   "name": "python",
   "nbconvert_exporter": "python",
   "pygments_lexer": "ipython3",
   "version": "3.7.16"
  },
  "orig_nbformat": 4
 },
 "nbformat": 4,
 "nbformat_minor": 2
}
