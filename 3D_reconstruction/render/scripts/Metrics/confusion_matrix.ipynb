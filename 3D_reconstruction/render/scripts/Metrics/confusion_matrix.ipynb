{
 "cells": [
  {
   "cell_type": "code",
   "execution_count": 1,
   "metadata": {},
   "outputs": [],
   "source": [
    "import numpy \n",
    "import math"
   ]
  },
  {
   "cell_type": "code",
   "execution_count": 3,
   "metadata": {},
   "outputs": [],
   "source": [
    "# Calculate True Positive volume using Intersection over Union metric\n",
    "\n",
    "def calc_volumes(iou, volume_gt, volume_pred):\n",
    "    volume_tp = (iou*(volume_gt + volume_pred))/(iou + 1)\n",
    "    volume_fp = volume_pred - volume_tp\n",
    "    volume_fn = volume_gt - volume_tp\n",
    "    volume_tn = iou - volume_tp - volume_fp - volume_fn\n",
    "    return volume_tp, volume_fp, volume_fn, volume_tn"
   ]
  },
  {
   "cell_type": "code",
   "execution_count": 5,
   "metadata": {},
   "outputs": [],
   "source": [
    "def calc_precision(volume_tp, volume_fp):\n",
    "    return volume_tp/(volume_tp + volume_fp)\n",
    "\n",
    "def calc_recall(volume_tp, volume_fn):\n",
    "    return volume_tp/(volume_tp + volume_fn)\n",
    "\n",
    "def calc_f_score(precision, recall):\n",
    "    return (2*precision*recall)/(precision + recall)"
   ]
  },
  {
   "cell_type": "code",
   "execution_count": 6,
   "metadata": {},
   "outputs": [
    {
     "name": "stdout",
     "output_type": "stream",
     "text": [
      "______________Precision___________Recall___________F1_score: \t 0.8293047744405886 1.0010110493247635 0.9071038251366119\n"
     ]
    }
   ],
   "source": [
    "iou = 0.83\n",
    "volume_gt = 0.227\n",
    "volume_pred = 0.274\n",
    "\n",
    "volume_tp = calc_volumes(iou, volume_gt, volume_pred)[0]\n",
    "volume_fp = calc_volumes(iou, volume_gt, volume_pred)[1]\n",
    "volume_fn = calc_volumes(iou, volume_gt, volume_pred)[2]\n",
    "\n",
    "precision = calc_precision(volume_tp, volume_fp)\n",
    "recall = calc_recall(volume_tp, volume_fn)\n",
    "f_score = calc_f_score(precision, recall)\n",
    "\n",
    "print(\"______________Precision___________Recall___________F1_score:\", \"\\t\",\n",
    "    precision, recall, f_score)"
   ]
  }
 ],
 "metadata": {
  "kernelspec": {
   "display_name": "metrics",
   "language": "python",
   "name": "python3"
  },
  "language_info": {
   "codemirror_mode": {
    "name": "ipython",
    "version": 3
   },
   "file_extension": ".py",
   "mimetype": "text/x-python",
   "name": "python",
   "nbconvert_exporter": "python",
   "pygments_lexer": "ipython3",
   "version": "3.7.16"
  },
  "orig_nbformat": 4
 },
 "nbformat": 4,
 "nbformat_minor": 2
}
