{
 "cells": [
  {
   "cell_type": "code",
   "execution_count": 2,
   "metadata": {},
   "outputs": [
    {
     "name": "stdout",
     "output_type": "stream",
     "text": [
      "Jupyter environment detected. Enabling Open3D WebVisualizer.\n",
      "[Open3D INFO] WebRTC GUI backend enabled.\n",
      "[Open3D INFO] WebRTCWindowSystem: HTTP handshake server disabled.\n"
     ]
    }
   ],
   "source": [
    "from mesh_to_sdf import mesh_to_voxels, mesh_to_sdf\n",
    "import open3d as o3d\n",
    "import trimesh\n",
    "import skimage\n",
    "import numpy as np\n",
    "from sklearn.metrics import mean_squared_error\n"
   ]
  },
  {
   "cell_type": "code",
   "execution_count": 14,
   "metadata": {},
   "outputs": [],
   "source": [
    "\n",
    "mesh = trimesh.load(\"/home/iana/Atlas/ground_truth.ply\")\n",
    "\n",
    "voxels = mesh_to_voxels(mesh, 64, pad=True)\n",
    "\n",
    "# vertices, faces, normals, _ = skimage.measure.marching_cubes(voxels, level=0)\n",
    "# mesh = trimesh.Trimesh(vertices=vertices, faces=faces, vertex_normals=normals)\n",
    "# mesh.show()\n",
    "\n",
    "\n",
    "# pcd = o3d.io.read_point_cloud(\"/home/iana/Atlas/new_arch_atlas.ply\")\n",
    "# x = np.asarray(pcd.points)\n",
    "pcd2 = o3d.io.read_point_cloud(\"box4.pcd\")\n",
    "x2 = np.asarray(pcd2.points)\n",
    "\n",
    "pcd1 = o3d.io.read_point_cloud(\"/home/iana/Atlas/ground_truth.ply\")\n",
    "x1 = np.asarray(pcd1.points)\n",
    "\n"
   ]
  },
  {
   "cell_type": "code",
   "execution_count": 15,
   "metadata": {},
   "outputs": [],
   "source": [
    "# print(x)\n",
    "y = mesh_to_sdf(mesh, x2, surface_point_method='scan', sign_method='normal', bounding_radius=None, scan_count=100, scan_resolution=400, sample_point_count=10000000, normal_sample_count=11)\n",
    "# print(y.shape)\n"
   ]
  },
  {
   "cell_type": "code",
   "execution_count": 16,
   "metadata": {},
   "outputs": [
    {
     "name": "stdout",
     "output_type": "stream",
     "text": [
      "sdf array: [0.1894061  0.18720177 0.18672273 ... 0.0270441  0.02042223 0.0270902 ]\n",
      "mean sdf -0.010568994\n",
      "0.5668995380401611\n",
      "0.5408210754394531\n",
      "Mean Squared Error of sdf: 0.0076512923\n",
      "0.22279197\n"
     ]
    }
   ],
   "source": [
    "print(\"sdf array:\",y)\n",
    "print(\"mean sdf\",np.mean(y))\n",
    "print(np.max(x))\n",
    "print(np.max(x1))\n",
    "\n",
    "\n",
    "a = np.zeros_like(y)\n",
    "mse = mean_squared_error(y,a)\n",
    "\n",
    "print(\"Mean Squared Error of sdf:\", mse)\n",
    "print(np.max(y))"
   ]
  },
  {
   "cell_type": "code",
   "execution_count": null,
   "metadata": {},
   "outputs": [],
   "source": []
  }
 ],
 "metadata": {
  "kernelspec": {
   "display_name": "base",
   "language": "python",
   "name": "python3"
  },
  "language_info": {
   "codemirror_mode": {
    "name": "ipython",
    "version": 3
   },
   "file_extension": ".py",
   "mimetype": "text/x-python",
   "name": "python",
   "nbconvert_exporter": "python",
   "pygments_lexer": "ipython3",
   "version": "3.8.10"
  },
  "orig_nbformat": 4
 },
 "nbformat": 4,
 "nbformat_minor": 2
}
